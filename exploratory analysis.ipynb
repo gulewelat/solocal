{
 "cells": [
  {
   "cell_type": "code",
   "execution_count": 42,
   "metadata": {},
   "outputs": [],
   "source": [
    "import pandas as pd\n",
    "import json\n",
    "from scipy.stats import chi2_contingency\n",
    "import itertools\n",
    "import datetime\n",
    "from sklearn.preprocessing import FunctionTransformer\n",
    "import numpy as np\n",
    "import matplotlib.pyplot as plt"
   ]
  },
  {
   "cell_type": "markdown",
   "metadata": {},
   "source": [
    "Visualizing the correlations between features and target"
   ]
  },
  {
   "cell_type": "code",
   "execution_count": 8,
   "metadata": {},
   "outputs": [],
   "source": [
    "campaign = pd.read_json('campaign_impressions.json', lines=True, orient='columns')"
   ]
  },
  {
   "cell_type": "code",
   "execution_count": 9,
   "metadata": {},
   "outputs": [],
   "source": [
    "segments = pd.read_csv('user_segments.csv')"
   ]
  },
  {
   "cell_type": "code",
   "execution_count": 10,
   "metadata": {},
   "outputs": [],
   "source": [
    "segments.rename(columns = {'Unnamed: 0':'uuid'}, inplace = True)"
   ]
  },
  {
   "cell_type": "code",
   "execution_count": 11,
   "metadata": {},
   "outputs": [],
   "source": [
    "for i in ['resp', 'dev']:\n",
    "    column_unnested = pd.json_normalize(campaign[i])\n",
    "    column_unnested = column_unnested.add_prefix(i+'_')\n",
    "    campaign = campaign.drop([i], axis = 1)\n",
    "    campaign = pd.concat([campaign, column_unnested], axis=1)"
   ]
  },
  {
   "cell_type": "markdown",
   "metadata": {},
   "source": [
    "## merge"
   ]
  },
  {
   "cell_type": "code",
   "execution_count": 12,
   "metadata": {},
   "outputs": [],
   "source": [
    "campaign_enriched = pd.merge(campaign,segments,how='right',\n",
    "                             \n",
    "                             left_on=['uuid'],right_on=['uuid'])"
   ]
  },
  {
   "cell_type": "markdown",
   "metadata": {},
   "source": [
    "## count na"
   ]
  },
  {
   "cell_type": "code",
   "execution_count": 15,
   "metadata": {},
   "outputs": [
    {
     "data": {
      "text/plain": [
       "ts                 0\n",
       "uuid               0\n",
       "conv               0\n",
       "resp_oi            0\n",
       "resp_cr          529\n",
       "resp_c             0\n",
       "dev_os             0\n",
       "dev_sid            0\n",
       "dev_app            0\n",
       "ANIMAL             0\n",
       "CAR_OWNER          0\n",
       "GARDEN             0\n",
       "OFFICE_WORKER      0\n",
       "PARENT             0\n",
       "dtype: int64"
      ]
     },
     "execution_count": 15,
     "metadata": {},
     "output_type": "execute_result"
    }
   ],
   "source": [
    "campaign_enriched.isna().sum()"
   ]
  },
  {
   "cell_type": "markdown",
   "metadata": {},
   "source": [
    "## transform time stamp"
   ]
  },
  {
   "cell_type": "code",
   "execution_count": 16,
   "metadata": {},
   "outputs": [],
   "source": [
    "campaign_enriched[\"ts\"] = pd.to_datetime(campaign_enriched.ts, unit='s')"
   ]
  },
  {
   "cell_type": "code",
   "execution_count": 17,
   "metadata": {},
   "outputs": [
    {
     "data": {
      "text/plain": [
       "0      2017-12-01 03:47:13\n",
       "1      2017-12-01 12:11:19\n",
       "2      2017-12-01 13:24:49\n",
       "3      2017-12-01 07:57:37\n",
       "4      2017-12-01 15:23:44\n",
       "               ...        \n",
       "9995   2017-12-01 06:12:55\n",
       "9996   2017-12-01 19:30:11\n",
       "9997   2017-12-01 20:20:18\n",
       "9998   2017-12-01 12:58:56\n",
       "9999   2017-12-01 14:55:14\n",
       "Name: ts, Length: 10000, dtype: datetime64[ns]"
      ]
     },
     "execution_count": 17,
     "metadata": {},
     "output_type": "execute_result"
    }
   ],
   "source": [
    "campaign_enriched[\"ts\"]"
   ]
  },
  {
   "cell_type": "code",
   "execution_count": 46,
   "metadata": {},
   "outputs": [],
   "source": [
    "campaign_enriched['year'] = campaign_enriched.ts.dt.year     \n",
    "campaign_enriched['month'] = campaign_enriched.ts.dt.month   \n",
    "campaign_enriched['day'] = campaign_enriched.ts.dt.day   \n",
    "campaign_enriched['hour'] = campaign_enriched.ts.dt.hour.apply(pd.to_numeric) "
   ]
  },
  {
   "cell_type": "code",
   "execution_count": 47,
   "metadata": {},
   "outputs": [],
   "source": [
    "campaign_enriched[\"hour_sin\"] = campaign_enriched['hour'].apply(lambda x: np.sin(x / 24 * 2 * np.pi))\n",
    "campaign_enriched[\"hour_cos\"] = campaign_enriched['hour'].apply(lambda x: np.cos(x / 24 * 2 * np.pi))"
   ]
  },
  {
   "cell_type": "markdown",
   "metadata": {},
   "source": [
    "## numerics"
   ]
  },
  {
   "cell_type": "code",
   "execution_count": 156,
   "metadata": {},
   "outputs": [
    {
     "data": {
      "text/plain": [
       "count    10000.000000\n",
       "mean        11.433700\n",
       "std          6.917701\n",
       "min          0.000000\n",
       "25%          5.000000\n",
       "50%         11.000000\n",
       "75%         17.000000\n",
       "max         23.000000\n",
       "Name: hour, dtype: float64"
      ]
     },
     "execution_count": 156,
     "metadata": {},
     "output_type": "execute_result"
    }
   ],
   "source": [
    "campaign_enriched['hour'].describe()"
   ]
  },
  {
   "cell_type": "code",
   "execution_count": 151,
   "metadata": {},
   "outputs": [
    {
     "name": "stdout",
     "output_type": "stream",
     "text": [
      "0.017933349783505918\n",
      "-1.191534655710618\n"
     ]
    }
   ],
   "source": [
    "print(campaign_enriched['hour'].astype(float).skew())\n",
    "print(campaign_enriched['hour'].astype(float).kurt())"
   ]
  },
  {
   "cell_type": "code",
   "execution_count": 48,
   "metadata": {},
   "outputs": [
    {
     "data": {
      "text/plain": [
       "count    1.000000e+04\n",
       "mean     8.948048e-03\n",
       "std      7.023175e-01\n",
       "min     -1.000000e+00\n",
       "25%     -7.071068e-01\n",
       "50%      1.224647e-16\n",
       "75%      7.071068e-01\n",
       "max      1.000000e+00\n",
       "Name: hour_sin, dtype: float64"
      ]
     },
     "execution_count": 48,
     "metadata": {},
     "output_type": "execute_result"
    }
   ],
   "source": [
    "campaign_enriched['hour_sin'].describe()"
   ]
  },
  {
   "cell_type": "code",
   "execution_count": 49,
   "metadata": {},
   "outputs": [
    {
     "name": "stdout",
     "output_type": "stream",
     "text": [
      "-0.018547469992270128\n",
      "-1.4814214431678605\n"
     ]
    }
   ],
   "source": [
    "print(campaign_enriched['hour_sin'].astype(float).skew())\n",
    "print(campaign_enriched['hour_sin'].astype(float).kurt())"
   ]
  },
  {
   "cell_type": "code",
   "execution_count": 50,
   "metadata": {},
   "outputs": [
    {
     "data": {
      "text/plain": [
       "count    1.000000e+04\n",
       "mean    -3.028216e-03\n",
       "std      7.118714e-01\n",
       "min     -1.000000e+00\n",
       "25%     -7.071068e-01\n",
       "50%      6.123234e-17\n",
       "75%      7.071068e-01\n",
       "max      1.000000e+00\n",
       "Name: hour_cos, dtype: float64"
      ]
     },
     "execution_count": 50,
     "metadata": {},
     "output_type": "execute_result"
    }
   ],
   "source": [
    "campaign_enriched['hour_cos'].describe()"
   ]
  },
  {
   "cell_type": "code",
   "execution_count": 51,
   "metadata": {},
   "outputs": [
    {
     "name": "stdout",
     "output_type": "stream",
     "text": [
      "-0.0003430040417276148\n",
      "-1.5090845644442739\n"
     ]
    }
   ],
   "source": [
    "print(campaign_enriched['hour_cos'].astype(float).skew())\n",
    "print(campaign_enriched['hour_cos'].astype(float).kurt())"
   ]
  },
  {
   "cell_type": "code",
   "execution_count": 56,
   "metadata": {},
   "outputs": [
    {
     "data": {
      "text/plain": [
       "<AxesSubplot:ylabel='Density'>"
      ]
     },
     "execution_count": 56,
     "metadata": {},
     "output_type": "execute_result"
    },
    {
     "data": {
      "image/png": "[encoded data removed]",
      "text/plain": [
       "<Figure size 640x480 with 1 Axes>"
      ]
     },
     "metadata": {},
     "output_type": "display_data"
    }
   ],
   "source": [
    "campaign_enriched['hour'].plot(kind='kde')"
   ]
  },
  {
   "cell_type": "code",
   "execution_count": 57,
   "metadata": {},
   "outputs": [
    {
     "data": {
      "text/plain": [
       "<AxesSubplot:ylabel='Density'>"
      ]
     },
     "execution_count": 57,
     "metadata": {},
     "output_type": "execute_result"
    },
    {
     "data": {
      "image/png": "[encoded data removed]",
      "text/plain": [
       "<Figure size 640x480 with 1 Axes>"
      ]
     },
     "metadata": {},
     "output_type": "display_data"
    }
   ],
   "source": [
    "campaign_enriched['hour_sin'].plot(kind='kde')"
   ]
  },
  {
   "cell_type": "code",
   "execution_count": 58,
   "metadata": {},
   "outputs": [
    {
     "data": {
      "text/plain": [
       "<AxesSubplot:ylabel='Density'>"
      ]
     },
     "execution_count": 58,
     "metadata": {},
     "output_type": "execute_result"
    },
    {
     "data": {
      "image/png": "[encoded data removed]",
      "text/plain": [
       "<Figure size 640x480 with 1 Axes>"
      ]
     },
     "metadata": {},
     "output_type": "display_data"
    }
   ],
   "source": [
    "campaign_enriched['hour_cos'].plot(kind='kde')"
   ]
  },
  {
   "cell_type": "markdown",
   "metadata": {},
   "source": [
    "## plot categoricals"
   ]
  },
  {
   "cell_type": "code",
   "execution_count": 48,
   "metadata": {},
   "outputs": [
    {
     "data": {
      "text/plain": [
       "<AxesSubplot:>"
      ]
     },
     "execution_count": 48,
     "metadata": {},
     "output_type": "execute_result"
    },
    {
     "data": {
      "image/png": "[encoded data removed]",
      "text/plain": [
       "<Figure size 432x288 with 1 Axes>"
      ]
     },
     "metadata": {
      "needs_background": "light"
     },
     "output_type": "display_data"
    }
   ],
   "source": [
    "campaign_enriched['conv'].value_counts().plot.bar()"
   ]
  },
  {
   "cell_type": "code",
   "execution_count": 49,
   "metadata": {},
   "outputs": [
    {
     "data": {
      "text/plain": [
       "<AxesSubplot:>"
      ]
     },
     "execution_count": 49,
     "metadata": {},
     "output_type": "execute_result"
    },
    {
     "data": {
      "image/png": "[encoded data removed]",
      "text/plain": [
       "<Figure size 432x288 with 1 Axes>"
      ]
     },
     "metadata": {
      "needs_background": "light"
     },
     "output_type": "display_data"
    }
   ],
   "source": [
    "campaign_enriched['resp_oi'].value_counts().plot.bar()"
   ]
  },
  {
   "cell_type": "code",
   "execution_count": 50,
   "metadata": {},
   "outputs": [
    {
     "data": {
      "text/plain": [
       "<AxesSubplot:>"
      ]
     },
     "execution_count": 50,
     "metadata": {},
     "output_type": "execute_result"
    },
    {
     "data": {
      "image/png": "[encoded data removed]",
      "text/plain": [
       "<Figure size 432x288 with 1 Axes>"
      ]
     },
     "metadata": {
      "needs_background": "light"
     },
     "output_type": "display_data"
    }
   ],
   "source": [
    "campaign_enriched['resp_cr'].value_counts().plot.bar()"
   ]
  },
  {
   "cell_type": "code",
   "execution_count": 51,
   "metadata": {},
   "outputs": [
    {
     "data": {
      "text/plain": [
       "<AxesSubplot:>"
      ]
     },
     "execution_count": 51,
     "metadata": {},
     "output_type": "execute_result"
    },
    {
     "data": {
      "image/png": "[encoded data removed]",
      "text/plain": [
       "<Figure size 432x288 with 1 Axes>"
      ]
     },
     "metadata": {
      "needs_background": "light"
     },
     "output_type": "display_data"
    }
   ],
   "source": [
    "campaign_enriched['resp_c'].value_counts().plot.bar()"
   ]
  },
  {
   "cell_type": "code",
   "execution_count": 52,
   "metadata": {},
   "outputs": [
    {
     "data": {
      "text/plain": [
       "<AxesSubplot:>"
      ]
     },
     "execution_count": 52,
     "metadata": {},
     "output_type": "execute_result"
    },
    {
     "data": {
      "image/png": "[encoded data removed]",
      "text/plain": [
       "<Figure size 432x288 with 1 Axes>"
      ]
     },
     "metadata": {
      "needs_background": "light"
     },
     "output_type": "display_data"
    }
   ],
   "source": [
    "campaign_enriched['dev_os'].value_counts().plot.bar()"
   ]
  },
  {
   "cell_type": "code",
   "execution_count": 53,
   "metadata": {},
   "outputs": [
    {
     "data": {
      "text/plain": [
       "<AxesSubplot:>"
      ]
     },
     "execution_count": 53,
     "metadata": {},
     "output_type": "execute_result"
    },
    {
     "data": {
      "image/png": "[encoded data removed]",
      "text/plain": [
       "<Figure size 432x288 with 1 Axes>"
      ]
     },
     "metadata": {
      "needs_background": "light"
     },
     "output_type": "display_data"
    }
   ],
   "source": [
    "campaign_enriched['dev_sid'].value_counts().plot.bar()"
   ]
  },
  {
   "cell_type": "code",
   "execution_count": 54,
   "metadata": {},
   "outputs": [
    {
     "data": {
      "text/plain": [
       "<AxesSubplot:>"
      ]
     },
     "execution_count": 54,
     "metadata": {},
     "output_type": "execute_result"
    },
    {
     "data": {
      "image/png": "[encoded data removed]",
      "text/plain": [
       "<Figure size 432x288 with 1 Axes>"
      ]
     },
     "metadata": {
      "needs_background": "light"
     },
     "output_type": "display_data"
    }
   ],
   "source": [
    "campaign_enriched['dev_app'].value_counts().plot.bar()"
   ]
  },
  {
   "cell_type": "code",
   "execution_count": 55,
   "metadata": {},
   "outputs": [
    {
     "data": {
      "text/plain": [
       "<AxesSubplot:>"
      ]
     },
     "execution_count": 55,
     "metadata": {},
     "output_type": "execute_result"
    },
    {
     "data": {
      "image/png": "[encoded data removed]",
      "text/plain": [
       "<Figure size 432x288 with 1 Axes>"
      ]
     },
     "metadata": {
      "needs_background": "light"
     },
     "output_type": "display_data"
    }
   ],
   "source": [
    "campaign_enriched['ANIMAL'].value_counts().plot.bar()"
   ]
  },
  {
   "cell_type": "code",
   "execution_count": 56,
   "metadata": {},
   "outputs": [
    {
     "data": {
      "text/plain": [
       "<AxesSubplot:>"
      ]
     },
     "execution_count": 56,
     "metadata": {},
     "output_type": "execute_result"
    },
    {
     "data": {
      "image/png": "[encoded data removed]",
      "text/plain": [
       "<Figure size 432x288 with 1 Axes>"
      ]
     },
     "metadata": {
      "needs_background": "light"
     },
     "output_type": "display_data"
    }
   ],
   "source": [
    "campaign_enriched['CAR_OWNER'].value_counts().plot.bar()"
   ]
  },
  {
   "cell_type": "code",
   "execution_count": 57,
   "metadata": {},
   "outputs": [
    {
     "data": {
      "text/plain": [
       "<AxesSubplot:>"
      ]
     },
     "execution_count": 57,
     "metadata": {},
     "output_type": "execute_result"
    },
    {
     "data": {
      "image/png": "[encoded data removed]",
      "text/plain": [
       "<Figure size 432x288 with 1 Axes>"
      ]
     },
     "metadata": {
      "needs_background": "light"
     },
     "output_type": "display_data"
    }
   ],
   "source": [
    "campaign_enriched['GARDEN'].value_counts().plot.bar()"
   ]
  },
  {
   "cell_type": "code",
   "execution_count": 58,
   "metadata": {},
   "outputs": [
    {
     "data": {
      "text/plain": [
       "<AxesSubplot:>"
      ]
     },
     "execution_count": 58,
     "metadata": {},
     "output_type": "execute_result"
    },
    {
     "data": {
      "image/png": "[encoded data removed]",
      "text/plain": [
       "<Figure size 432x288 with 1 Axes>"
      ]
     },
     "metadata": {
      "needs_background": "light"
     },
     "output_type": "display_data"
    }
   ],
   "source": [
    "campaign_enriched['OFFICE_WORKER'].value_counts().plot.bar()"
   ]
  },
  {
   "cell_type": "code",
   "execution_count": 59,
   "metadata": {},
   "outputs": [
    {
     "data": {
      "text/plain": [
       "<AxesSubplot:>"
      ]
     },
     "execution_count": 59,
     "metadata": {},
     "output_type": "execute_result"
    },
    {
     "data": {
      "image/png": "[encoded data removed]",
      "text/plain": [
       "<Figure size 432x288 with 1 Axes>"
      ]
     },
     "metadata": {
      "needs_background": "light"
     },
     "output_type": "display_data"
    }
   ],
   "source": [
    "campaign_enriched['PARENT'].value_counts().plot.bar()"
   ]
  },
  {
   "cell_type": "markdown",
   "metadata": {},
   "source": [
    "## chi 2"
   ]
  },
  {
   "cell_type": "code",
   "execution_count": 90,
   "metadata": {},
   "outputs": [],
   "source": [
    "cols_chi2 = ['resp_oi', 'resp_cr', 'resp_c', 'dev_os','dev_sid', 'dev_app','nb_of_id_campaign', \n",
    "            'ANIMAL', 'CAR_OWNER','GARDEN','OFFICE_WORKER','PARENT']\n",
    "\n",
    "tuples_columns = []\n",
    "\n",
    "for cols_chi2 in itertools.combinations(cols_chi2,2):\n",
    "    tuples_columns.append(cols_chi2)\n",
    "\n",
    "tuples_columns = list(set(tuples_columns))"
   ]
  },
  {
   "cell_type": "code",
   "execution_count": 112,
   "metadata": {},
   "outputs": [
    {
     "name": "stdout",
     "output_type": "stream",
     "text": [
      "nb_of_id_campaign and CAR_OWNER are dependent (reject H0)\n",
      "dev_app and ANIMAL are dependent (reject H0)\n",
      "ANIMAL and CAR_OWNER are dependent (reject H0)\n",
      "ANIMAL and GARDEN are dependent (reject H0)\n",
      "GARDEN and PARENT are dependent (reject H0)\n",
      "nb_of_id_campaign and GARDEN are dependent (reject H0)\n",
      "GARDEN and OFFICE_WORKER are dependent (reject H0)\n",
      "CAR_OWNER and PARENT are dependent (reject H0)\n",
      "ANIMAL and PARENT are dependent (reject H0)\n",
      "ANIMAL and OFFICE_WORKER are dependent (reject H0)\n",
      "nb_of_id_campaign and PARENT are dependent (reject H0)\n",
      "nb_of_id_campaign and OFFICE_WORKER are dependent (reject H0)\n",
      "CAR_OWNER and GARDEN are dependent (reject H0)\n",
      "resp_cr and resp_c are dependent (reject H0)\n",
      "nb_of_id_campaign and ANIMAL are dependent (reject H0)\n",
      "CAR_OWNER and OFFICE_WORKER are dependent (reject H0)\n"
     ]
    }
   ],
   "source": [
    "#stocker i0 et i1\n",
    "dependent_col = []\n",
    "for i in tuples_columns:\n",
    "    \n",
    "    if i[0] != i[1]:\n",
    "        \n",
    "        #step 1: Extract required columns, ideally it should be two columns at a time\n",
    "        data_interim=campaign_enriched[[i[0], i[1]]]\n",
    "\n",
    "        #step 2: Create a cross tab which is a contigency table\n",
    "        data_cont=pd.crosstab(data_interim[i[0]], data_interim[i[1]])\n",
    "\n",
    "        stat, p, dof, expected = chi2_contingency(data_cont)\n",
    "\n",
    "        #interpret p-value\n",
    "        alpha = 0.05\n",
    "\n",
    "        if p <= alpha:\n",
    "            print('{col1} and {col2} are dependent (reject H0)'.format(col1 = i[0], col2 = i[1]))\n",
    "            dependent_col.append(i[0])\n",
    "            dependent_col.append(i[1])\n",
    "        else:\n",
    "            pass\n"
   ]
  },
  {
   "cell_type": "code",
   "execution_count": 113,
   "metadata": {},
   "outputs": [
    {
     "data": {
      "text/plain": [
       "{'ANIMAL',\n",
       " 'CAR_OWNER',\n",
       " 'GARDEN',\n",
       " 'OFFICE_WORKER',\n",
       " 'PARENT',\n",
       " 'dev_app',\n",
       " 'nb_of_id_campaign',\n",
       " 'resp_c',\n",
       " 'resp_cr'}"
      ]
     },
     "execution_count": 113,
     "metadata": {},
     "output_type": "execute_result"
    }
   ],
   "source": [
    "set(dependent_col)"
   ]
  },
  {
   "cell_type": "code",
   "execution_count": 152,
   "metadata": {},
   "outputs": [],
   "source": [
    "# cols to keep\n",
    "\n",
    "# resp_c, uuid, hour, conv, dev_app, dev_sid, dev_os, OFFICE_WORKER, PARENT"
   ]
  },
  {
   "cell_type": "markdown",
   "metadata": {},
   "source": [
    "## correlation"
   ]
  },
  {
   "cell_type": "code",
   "execution_count": 55,
   "metadata": {},
   "outputs": [
    {
     "data": {
      "text/html": [
       "<div>\n",
       "<style scoped>\n",
       "    .dataframe tbody tr th:only-of-type {\n",
       "        vertical-align: middle;\n",
       "    }\n",
       "\n",
       "    .dataframe tbody tr th {\n",
       "        vertical-align: top;\n",
       "    }\n",
       "\n",
       "    .dataframe thead th {\n",
       "        text-align: right;\n",
       "    }\n",
       "</style>\n",
       "<table border=\"1\" class=\"dataframe\">\n",
       "  <thead>\n",
       "    <tr style=\"text-align: right;\">\n",
       "      <th></th>\n",
       "      <th>hour_sin</th>\n",
       "      <th>hour_cos</th>\n",
       "    </tr>\n",
       "  </thead>\n",
       "  <tbody>\n",
       "    <tr>\n",
       "      <th>hour_sin</th>\n",
       "      <td>1.000000</td>\n",
       "      <td>0.002104</td>\n",
       "    </tr>\n",
       "    <tr>\n",
       "      <th>hour_cos</th>\n",
       "      <td>0.002104</td>\n",
       "      <td>1.000000</td>\n",
       "    </tr>\n",
       "  </tbody>\n",
       "</table>\n",
       "</div>"
      ],
      "text/plain": [
       "          hour_sin  hour_cos\n",
       "hour_sin  1.000000  0.002104\n",
       "hour_cos  0.002104  1.000000"
      ]
     },
     "execution_count": 55,
     "metadata": {},
     "output_type": "execute_result"
    }
   ],
   "source": [
    "campaign_enriched[['hour_sin', 'hour_cos']].corr()"
   ]
  },
  {
   "cell_type": "code",
   "execution_count": null,
   "metadata": {},
   "outputs": [],
   "source": []
  }
 ],
 "metadata": {
  "kernelspec": {
   "display_name": "Python 3 (ipykernel)",
   "language": "python",
   "name": "python3"
  },
  "language_info": {
   "codemirror_mode": {
    "name": "ipython",
    "version": 3
   },
   "file_extension": ".py",
   "mimetype": "text/x-python",
   "name": "python",
   "nbconvert_exporter": "python",
   "pygments_lexer": "ipython3",
   "version": "3.7.15"
  }
 },
 "nbformat": 4,
 "nbformat_minor": 4
}
